{
 "cells": [
  {
   "cell_type": "code",
   "execution_count": 9,
   "metadata": {},
   "outputs": [
    {
     "name": "stdout",
     "output_type": "stream",
     "text": [
      "2024년2월29일\n",
      "\n",
      "포트폴리오 수익률 : 2.38%\n",
      "\n",
      "\n"
     ]
    },
    {
     "ename": "KeyboardInterrupt",
     "evalue": "",
     "output_type": "error",
     "traceback": [
      "\u001b[1;31m---------------------------------------------------------------------------\u001b[0m",
      "\u001b[1;31mKeyboardInterrupt\u001b[0m                         Traceback (most recent call last)",
      "Cell \u001b[1;32mIn[9], line 79\u001b[0m\n\u001b[0;32m     77\u001b[0m \u001b[38;5;66;03m# Now loop through your date_list and call the run function\u001b[39;00m\n\u001b[0;32m     78\u001b[0m \u001b[38;5;28;01mfor\u001b[39;00m i \u001b[38;5;129;01min\u001b[39;00m date_list:\n\u001b[1;32m---> 79\u001b[0m     \u001b[38;5;28mprint\u001b[39m(\u001b[43mrun\u001b[49m\u001b[43m(\u001b[49m\u001b[43mi\u001b[49m\u001b[43m)\u001b[49m)\n",
      "Cell \u001b[1;32mIn[9], line 48\u001b[0m, in \u001b[0;36mrun\u001b[1;34m(xx)\u001b[0m\n\u001b[0;32m     46\u001b[0m \u001b[38;5;66;03m# 종목별 종가\u001b[39;00m\n\u001b[0;32m     47\u001b[0m \u001b[38;5;28;01mfor\u001b[39;00m i \u001b[38;5;129;01min\u001b[39;00m \u001b[38;5;28mrange\u001b[39m(\u001b[38;5;28mlen\u001b[39m(stock_ticker)):\n\u001b[1;32m---> 48\u001b[0m     stock_endprice\u001b[38;5;241m.\u001b[39mappend(\u001b[43myf\u001b[49m\u001b[38;5;241;43m.\u001b[39;49m\u001b[43mdownload\u001b[49m\u001b[43m(\u001b[49m\u001b[43mstock_ticker\u001b[49m\u001b[43m[\u001b[49m\u001b[43mi\u001b[49m\u001b[43m]\u001b[49m\u001b[43m,\u001b[49m\u001b[43mstart\u001b[49m\u001b[38;5;241;43m=\u001b[39;49m\u001b[43mstart_date\u001b[49m\u001b[43m,\u001b[49m\u001b[43mend\u001b[49m\u001b[38;5;241;43m=\u001b[39;49m\u001b[43mend_date\u001b[49m\u001b[43m,\u001b[49m\u001b[43m \u001b[49m\u001b[43mprogress\u001b[49m\u001b[38;5;241;43m=\u001b[39;49m\u001b[38;5;28;43;01mFalse\u001b[39;49;00m\u001b[43m)\u001b[49m[\u001b[38;5;124m'\u001b[39m\u001b[38;5;124mClose\u001b[39m\u001b[38;5;124m'\u001b[39m]\u001b[38;5;241m.\u001b[39mvalues[\u001b[38;5;241m-\u001b[39m\u001b[38;5;241m1\u001b[39m])\n\u001b[0;32m     50\u001b[0m \u001b[38;5;66;03m# 각 종목별 종가 * 주식수 -(세금 + 수수료)\u001b[39;00m\n\u001b[0;32m     51\u001b[0m \u001b[38;5;28;01mfor\u001b[39;00m i \u001b[38;5;129;01min\u001b[39;00m \u001b[38;5;28mrange\u001b[39m(\u001b[38;5;28mlen\u001b[39m(stock_ticker)):\n",
      "File \u001b[1;32mc:\\Users\\user\\AppData\\Local\\Programs\\Python\\Python311\\Lib\\site-packages\\yfinance\\utils.py:105\u001b[0m, in \u001b[0;36mlog_indent_decorator.<locals>.wrapper\u001b[1;34m(*args, **kwargs)\u001b[0m\n\u001b[0;32m    102\u001b[0m logger\u001b[38;5;241m.\u001b[39mdebug(\u001b[38;5;124mf\u001b[39m\u001b[38;5;124m'\u001b[39m\u001b[38;5;124mEntering \u001b[39m\u001b[38;5;132;01m{\u001b[39;00mfunc\u001b[38;5;241m.\u001b[39m\u001b[38;5;18m__name__\u001b[39m\u001b[38;5;132;01m}\u001b[39;00m\u001b[38;5;124m()\u001b[39m\u001b[38;5;124m'\u001b[39m)\n\u001b[0;32m    104\u001b[0m \u001b[38;5;28;01mwith\u001b[39;00m IndentationContext():\n\u001b[1;32m--> 105\u001b[0m     result \u001b[38;5;241m=\u001b[39m \u001b[43mfunc\u001b[49m\u001b[43m(\u001b[49m\u001b[38;5;241;43m*\u001b[39;49m\u001b[43margs\u001b[49m\u001b[43m,\u001b[49m\u001b[43m \u001b[49m\u001b[38;5;241;43m*\u001b[39;49m\u001b[38;5;241;43m*\u001b[39;49m\u001b[43mkwargs\u001b[49m\u001b[43m)\u001b[49m\n\u001b[0;32m    107\u001b[0m logger\u001b[38;5;241m.\u001b[39mdebug(\u001b[38;5;124mf\u001b[39m\u001b[38;5;124m'\u001b[39m\u001b[38;5;124mExiting \u001b[39m\u001b[38;5;132;01m{\u001b[39;00mfunc\u001b[38;5;241m.\u001b[39m\u001b[38;5;18m__name__\u001b[39m\u001b[38;5;132;01m}\u001b[39;00m\u001b[38;5;124m()\u001b[39m\u001b[38;5;124m'\u001b[39m)\n\u001b[0;32m    108\u001b[0m \u001b[38;5;28;01mreturn\u001b[39;00m result\n",
      "File \u001b[1;32mc:\\Users\\user\\AppData\\Local\\Programs\\Python\\Python311\\Lib\\site-packages\\yfinance\\multi.py:157\u001b[0m, in \u001b[0;36mdownload\u001b[1;34m(tickers, start, end, actions, threads, ignore_tz, group_by, auto_adjust, back_adjust, repair, keepna, progress, period, show_errors, interval, prepost, proxy, rounding, timeout, session)\u001b[0m\n\u001b[0;32m    150\u001b[0m         _download_one_threaded(ticker, period\u001b[38;5;241m=\u001b[39mperiod, interval\u001b[38;5;241m=\u001b[39minterval,\n\u001b[0;32m    151\u001b[0m                                start\u001b[38;5;241m=\u001b[39mstart, end\u001b[38;5;241m=\u001b[39mend, prepost\u001b[38;5;241m=\u001b[39mprepost,\n\u001b[0;32m    152\u001b[0m                                actions\u001b[38;5;241m=\u001b[39mactions, auto_adjust\u001b[38;5;241m=\u001b[39mauto_adjust,\n\u001b[0;32m    153\u001b[0m                                back_adjust\u001b[38;5;241m=\u001b[39mback_adjust, repair\u001b[38;5;241m=\u001b[39mrepair, keepna\u001b[38;5;241m=\u001b[39mkeepna,\n\u001b[0;32m    154\u001b[0m                                progress\u001b[38;5;241m=\u001b[39m(progress \u001b[38;5;129;01mand\u001b[39;00m i \u001b[38;5;241m>\u001b[39m \u001b[38;5;241m0\u001b[39m), proxy\u001b[38;5;241m=\u001b[39mproxy,\n\u001b[0;32m    155\u001b[0m                                rounding\u001b[38;5;241m=\u001b[39mrounding, timeout\u001b[38;5;241m=\u001b[39mtimeout, session\u001b[38;5;241m=\u001b[39msession)\n\u001b[0;32m    156\u001b[0m     \u001b[38;5;28;01mwhile\u001b[39;00m \u001b[38;5;28mlen\u001b[39m(shared\u001b[38;5;241m.\u001b[39m_DFS) \u001b[38;5;241m<\u001b[39m \u001b[38;5;28mlen\u001b[39m(tickers):\n\u001b[1;32m--> 157\u001b[0m         _time\u001b[38;5;241m.\u001b[39msleep(\u001b[38;5;241m0.01\u001b[39m)\n\u001b[0;32m    158\u001b[0m \u001b[38;5;66;03m# download synchronously\u001b[39;00m\n\u001b[0;32m    159\u001b[0m \u001b[38;5;28;01melse\u001b[39;00m:\n\u001b[0;32m    160\u001b[0m     \u001b[38;5;28;01mfor\u001b[39;00m i, ticker \u001b[38;5;129;01min\u001b[39;00m \u001b[38;5;28menumerate\u001b[39m(tickers):\n",
      "\u001b[1;31mKeyboardInterrupt\u001b[0m: "
     ]
    }
   ],
   "source": [
    "import schedule\n",
    "import time\n",
    "import datetime\n",
    "import yfinance as yf\n",
    "import asyncio\n",
    "import telegram\n",
    "import datetime\n",
    "import os\n",
    "import pytz\n",
    "from apscheduler.schedulers.asyncio import AsyncIOScheduler\n",
    "from datetime import datetime, timedelta\n",
    "\n",
    "\n",
    "def run(xx):\n",
    "    # Assuming xx is a string, convert it to datetime object\n",
    "    x = datetime.strptime(xx, '%Y-%m-%d')\n",
    "    \n",
    "    start_date = (x - timedelta(days=7)).strftime('%Y-%m-%d')\n",
    "    end_date = (x + timedelta(days=1)).strftime('%Y-%m-%d')\n",
    "\n",
    "    start_money = 7254044\n",
    "    # 수수료 및 세금\n",
    "    charge_fee = 0.00015\n",
    "    tax_fee = 0.002\n",
    "\n",
    "    # RP, 현재 RP 가격 불러오도록 바꿔야함. RP는 고정수익률이니 수익률 측정은 의미 없음.\n",
    "    rp = 0\n",
    "    # 현금\n",
    "    cash = 531040\n",
    "    # 주식\n",
    "    stock_total = 0\n",
    "    # sk하이닉스, 한국카본, 유진테크, 팅크웨어, 켐트로닉스, 테스, 서연이화\n",
    "    stock_ticker = ['000660.KS','218410.KQ','084370.KQ','084730.KQ','089010.KQ','095610.KQ','200880.KS','009150.KS','348340.KQ']\n",
    "    stock_name = ['sk하이닉스', 'RFHIC', '유진테크', '팅크웨어', '켐트로닉스', '테스', '서연이화', '삼성전기','뉴로메카']\n",
    "\n",
    "    stock_endprice = []\n",
    "    stock_cnt = [4,32,27,71,48,40,30,6,9]\n",
    "    stock_purchase_price = [131013,17520,42278,15549,23694,20438,16197,150150,39050]\n",
    "    stock_return = []\n",
    "\n",
    "    # 포트폴리오 평가금\n",
    "    evaluation_money = 0\n",
    "    # 종목별 평가금\n",
    "    stock_money = []\n",
    "\n",
    "    # 종목별 종가\n",
    "    for i in range(len(stock_ticker)):\n",
    "        stock_endprice.append(yf.download(stock_ticker[i],start=start_date,end=end_date, progress=False)['Close'].values[-1])\n",
    "\n",
    "    # 각 종목별 종가 * 주식수 -(세금 + 수수료)\n",
    "    for i in range(len(stock_ticker)):\n",
    "        stock_money.append(stock_endprice[i]*stock_cnt[i]*(1-charge_fee-tax_fee))\n",
    "\n",
    "    # 수익률\n",
    "    for i in range(len(stock_ticker)):\n",
    "        stock_return.append((stock_money[i]-stock_purchase_price[i]*stock_cnt[i])/stock_purchase_price[i]/stock_cnt[i])\n",
    "\n",
    "    # 총 평가금\n",
    "    for i in range(len(stock_ticker)):\n",
    "        stock_total += stock_money[i]\n",
    "    evaluation_money = stock_total + rp + cash\n",
    "\n",
    "    msg_result = ''\n",
    "\n",
    "    # 날짜\n",
    "    msg_result += str(x.year)+'년'+str(x.month)+'월'+str(x.day)+'일'+'\\n\\n'\n",
    "\n",
    "    # 평가금 기준\n",
    "    msg_result += '포트폴리오 수익률 : ' + str(round((evaluation_money/start_money-1)*100, 2)) + '%' +'\\n'\n",
    "    msg_result += '포트폴리오 평가금 : ' + str(evaluation_money) + '%' +'\\n\\n'\n",
    "\n",
    "    return msg_result\n",
    "\n",
    "# Your initialization code for date_list seems correct.\n",
    "start_date = datetime.strptime(\"2024-02-02\", \"%Y-%m-%d\")\n",
    "date_list = [(start_date + timedelta(days=i)).strftime('%Y-%m-%d') for i in range(28)]\n",
    "\n",
    "# Now loop through your date_list and call the run function\n",
    "for i in date_list:\n",
    "    print(run(i))\n"
   ]
  },
  {
   "cell_type": "code",
   "execution_count": null,
   "metadata": {},
   "outputs": [],
   "source": []
  }
 ],
 "metadata": {
  "kernelspec": {
   "display_name": "Python 3",
   "language": "python",
   "name": "python3"
  },
  "language_info": {
   "codemirror_mode": {
    "name": "ipython",
    "version": 3
   },
   "file_extension": ".py",
   "mimetype": "text/x-python",
   "name": "python",
   "nbconvert_exporter": "python",
   "pygments_lexer": "ipython3",
   "version": "3.11.4"
  }
 },
 "nbformat": 4,
 "nbformat_minor": 2
}
